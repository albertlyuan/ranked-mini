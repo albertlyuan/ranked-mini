{
 "cells": [
  {
   "cell_type": "code",
   "execution_count": 3,
   "metadata": {},
   "outputs": [
    {
     "name": "stdout",
     "output_type": "stream",
     "text": [
      "dict_keys(['7zDTQ16f3Sah2sOSncu3zLf6PeG3', 'KTADcHMg24fTPi7MD9HBu0lZIzx2', 'VN1a7FvDVBfRAPQWdiOoE612muI2', 'uMPGdPCMakVoBdeSFK2I8Lw3XEs2', 'unc'])\n"
     ]
    }
   ],
   "source": [
    "import json\n",
    "with open('ranked-mini-default-rtdb-export.json') as f:\n",
    "    d = json.load(f)\n",
    "print(d.keys())\n",
    "games, history, now, names2uids = d['KTADcHMg24fTPi7MD9HBu0lZIzx2'].values()\n",
    "# 'KTADcHMg24fTPi7MD9HBu0lZIzx2', 'VN1a7FvDVBfRAPQWdiOoE612muI2', 'uMPGdPCMakVoBdeSFK2I8Lw3XEs2'"
   ]
  },
  {
   "cell_type": "code",
   "execution_count": 4,
   "metadata": {},
   "outputs": [
    {
     "data": {
      "text/plain": [
       "{'p1': '-NnljvaD6W9ZT2fea8w3',\n",
       " 'p10': '-NnljvgT9nKfZFR3RBOu',\n",
       " 'p11': '-Nnljvh4ydhKfZ2IFGA3',\n",
       " 'p12': '-Nnljvhn9PEOhY0_nLpe',\n",
       " 'p2': '-NnljvavNa8083A-MRUA',\n",
       " 'p3': '-Nnljvbk65xzxP4hwIbU',\n",
       " 'p4': '-NnljvcQfdq1fExfoAcw',\n",
       " 'p5': '-Nnljvd2nWh28E34fiYI',\n",
       " 'p6': '-Nnljvdg0jrEY6dfE-54',\n",
       " 'p7': '-NnljveNZ0MgXxXXAcfI',\n",
       " 'p8': '-Nnljvf5HgkdIN7Md3U5',\n",
       " 'p9': '-Nnljvfoy6oAjAFvqoC-',\n",
       " 'testnewplayer1': '-NqtArDavp6wv0o8pDx1'}"
      ]
     },
     "execution_count": 4,
     "metadata": {},
     "output_type": "execute_result"
    }
   ],
   "source": [
    "names2uids"
   ]
  },
  {
   "cell_type": "code",
   "execution_count": 8,
   "metadata": {},
   "outputs": [],
   "source": [
    "def makejson(games, outpname):\n",
    "    gamesjson = []\n",
    "    historyjson = {}\n",
    "    nowjson = {}\n",
    "    names2uidsjson = {}\n",
    "\n",
    "    for i in range(len(games)):\n",
    "        gamesjson.append(games[i])\n",
    "        for uid in games[i].values():\n",
    "            if uid in dukeuid:\n",
    "                names2uidsjson[dukeuid[uid]] = uid\n",
    "            elif uid in uncuid:\n",
    "                names2uidsjson[uncuid[uid]] = uid\n",
    "            elif uid in rduuid:\n",
    "                names2uidsjson[rduuid[uid]] = uid\n",
    "            else:\n",
    "                pass\n",
    "\n",
    "    for uid in names2uidsjson.values():\n",
    "        historyjson[uid] = {}\n",
    "        historyjson[uid][\"-1\"] = history[uid][\"-1\"]\n",
    "        nowjson[uid] = {\"most_recent_game\": -1,\n",
    "            \"elo\": 400,\n",
    "            \"wins\": 0,\n",
    "            \"losses\": 0,\n",
    "            \"teams\": {}}\n",
    "        \n",
    "    assert len(historyjson.keys()) == len(names2uidsjson.keys())\n",
    "    assert len(nowjson.keys()) == len(names2uidsjson.keys())\n",
    "\n",
    "    outpjson = {outpname : {\n",
    "        \"games\":gamesjson, \n",
    "        \"player_history\":historyjson,\n",
    "        \"player_now\": nowjson,\n",
    "        \"player_uid\":names2uidsjson,\n",
    "        \"teams\":{}\n",
    "        }}\n",
    "    with open(f\"{outpname}.json\",\"w\") as f:\n",
    "        json.dump(outpjson, f)"
   ]
  },
  {
   "cell_type": "code",
   "execution_count": 10,
   "metadata": {},
   "outputs": [],
   "source": [
    "# makejson(uncgames,\"unc\")\n",
    "makejson(dukegames,\"uMPGdPCMakVoBdeSFK2I8Lw3XEs2\")\n",
    "# makejson(rdugames,\"rdu\")"
   ]
  }
 ],
 "metadata": {
  "kernelspec": {
   "display_name": "Python 3",
   "language": "python",
   "name": "python3"
  },
  "language_info": {
   "codemirror_mode": {
    "name": "ipython",
    "version": 3
   },
   "file_extension": ".py",
   "mimetype": "text/x-python",
   "name": "python",
   "nbconvert_exporter": "python",
   "pygments_lexer": "ipython3",
   "version": "3.10.11"
  }
 },
 "nbformat": 4,
 "nbformat_minor": 2
}
